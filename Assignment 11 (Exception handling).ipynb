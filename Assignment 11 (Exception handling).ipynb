{
 "cells": [
  {
   "cell_type": "markdown",
   "id": "62c3fd92-e7ea-4c60-bda6-1b3835d2a8d6",
   "metadata": {},
   "source": [
    "Q.1.what is an exception handling in Python ? Write the difference b/w Exceptions and syntax errors."
   ]
  },
  {
   "cell_type": "markdown",
   "id": "b1895a18-36ad-49d2-9105-39d74c4d4c18",
   "metadata": {},
   "source": [
    "Ans. Exception handling in Python is a mechanism that allows you to handle and respond to errors or exceptional coditions that occur during the exicution of a program . When an error occurs ,an exception ,object is raised ,which can be caught and processed using exeption handling techniques .This helps in preventing the program from crashing and allows we to gracefully handle errors."
   ]
  },
  {
   "cell_type": "markdown",
   "id": "b9414488-b61b-467c-87a1-7790dc7d6b9e",
   "metadata": {},
   "source": [
    "while, Syntax errors .also known as parsing errors occur whenthe the Python interpreter encounters incorrect code syntex .Yhey indicate violation of the Python language rules .These errors are detected during the parsing phase before the cde is exicuted .Example of syntax error are -missing colons ,unmatched parentheses ,or using undefined variable "
   ]
  },
  {
   "cell_type": "markdown",
   "id": "ff740260-5750-4fff-9fcd-bbe7456015b5",
   "metadata": {},
   "source": [
    "Exception on the other hand ,occur during the exicution of a program when an error or exceptional condition is encountered .If we write some code which is not applicable for that very moment to fix we this mistake during the writing of code we should use Exception handling ."
   ]
  },
  {
   "cell_type": "markdown",
   "id": "2d970518-eb4b-4e92-832a-28a08db49b9b",
   "metadata": {},
   "source": [
    "In short syntax error are dedected during the parsing phase before the code is exicuted ,while exceptions occur during program exicution when an error or exception condition is encountered ."
   ]
  },
  {
   "cell_type": "code",
   "execution_count": null,
   "id": "0d04cfd1-80f9-451d-94b0-ac08a2895d41",
   "metadata": {},
   "outputs": [],
   "source": []
  },
  {
   "cell_type": "markdown",
   "id": "0544bdc9-878b-421a-86ea-decee8961bb5",
   "metadata": {},
   "source": [
    "Q.2 What happened when an exception is not handled ? Explain with an example ."
   ]
  },
  {
   "cell_type": "markdown",
   "id": "e6d75a8e-37da-4566-814b-a288a6f6d830",
   "metadata": {},
   "source": [
    "Ans. Wen exception is not handled ,it results in the terminatiion of the program and an error message is displayed ,indecating the type of exeption and the traceback information .This is known as an 'unhandled exception .Below I am going to give an example to illustrate that what happens when an exception is not handled.:"
   ]
  },
  {
   "cell_type": "code",
   "execution_count": 3,
   "id": "90e12276-e025-4393-8f7b-823239e6b14c",
   "metadata": {},
   "outputs": [
    {
     "ename": "FileNotFoundError",
     "evalue": "[Errno 2] No such file or directory: 'test.txt'",
     "output_type": "error",
     "traceback": [
      "\u001b[0;31m---------------------------------------------------------------------------\u001b[0m",
      "\u001b[0;31mFileNotFoundError\u001b[0m                         Traceback (most recent call last)",
      "Cell \u001b[0;32mIn[3], line 1\u001b[0m\n\u001b[0;32m----> 1\u001b[0m f\u001b[38;5;241m=\u001b[39m\u001b[38;5;28;43mopen\u001b[39;49m\u001b[43m(\u001b[49m\u001b[38;5;124;43m\"\u001b[39;49m\u001b[38;5;124;43mtest.txt\u001b[39;49m\u001b[38;5;124;43m\"\u001b[39;49m\u001b[43m,\u001b[49m\u001b[38;5;124;43m\"\u001b[39;49m\u001b[38;5;124;43mr\u001b[39;49m\u001b[38;5;124;43m\"\u001b[39;49m\u001b[43m)\u001b[49m\n\u001b[1;32m      2\u001b[0m \u001b[38;5;28mprint\u001b[39m(\u001b[38;5;124m\"\u001b[39m\u001b[38;5;124mI am trying to read which is not mentiioned\u001b[39m\u001b[38;5;124m\"\u001b[39m)\n",
      "File \u001b[0;32m/opt/conda/lib/python3.10/site-packages/IPython/core/interactiveshell.py:282\u001b[0m, in \u001b[0;36m_modified_open\u001b[0;34m(file, *args, **kwargs)\u001b[0m\n\u001b[1;32m    275\u001b[0m \u001b[38;5;28;01mif\u001b[39;00m file \u001b[38;5;129;01min\u001b[39;00m {\u001b[38;5;241m0\u001b[39m, \u001b[38;5;241m1\u001b[39m, \u001b[38;5;241m2\u001b[39m}:\n\u001b[1;32m    276\u001b[0m     \u001b[38;5;28;01mraise\u001b[39;00m \u001b[38;5;167;01mValueError\u001b[39;00m(\n\u001b[1;32m    277\u001b[0m         \u001b[38;5;124mf\u001b[39m\u001b[38;5;124m\"\u001b[39m\u001b[38;5;124mIPython won\u001b[39m\u001b[38;5;124m'\u001b[39m\u001b[38;5;124mt let you open fd=\u001b[39m\u001b[38;5;132;01m{\u001b[39;00mfile\u001b[38;5;132;01m}\u001b[39;00m\u001b[38;5;124m by default \u001b[39m\u001b[38;5;124m\"\u001b[39m\n\u001b[1;32m    278\u001b[0m         \u001b[38;5;124m\"\u001b[39m\u001b[38;5;124mas it is likely to crash IPython. If you know what you are doing, \u001b[39m\u001b[38;5;124m\"\u001b[39m\n\u001b[1;32m    279\u001b[0m         \u001b[38;5;124m\"\u001b[39m\u001b[38;5;124myou can use builtins\u001b[39m\u001b[38;5;124m'\u001b[39m\u001b[38;5;124m open.\u001b[39m\u001b[38;5;124m\"\u001b[39m\n\u001b[1;32m    280\u001b[0m     )\n\u001b[0;32m--> 282\u001b[0m \u001b[38;5;28;01mreturn\u001b[39;00m \u001b[43mio_open\u001b[49m\u001b[43m(\u001b[49m\u001b[43mfile\u001b[49m\u001b[43m,\u001b[49m\u001b[43m \u001b[49m\u001b[38;5;241;43m*\u001b[39;49m\u001b[43margs\u001b[49m\u001b[43m,\u001b[49m\u001b[43m \u001b[49m\u001b[38;5;241;43m*\u001b[39;49m\u001b[38;5;241;43m*\u001b[39;49m\u001b[43mkwargs\u001b[49m\u001b[43m)\u001b[49m\n",
      "\u001b[0;31mFileNotFoundError\u001b[0m: [Errno 2] No such file or directory: 'test.txt'"
     ]
    }
   ],
   "source": [
    "f=open(\"test.txt\",\"r\")\n",
    "print(\"I am trying to read which is not mentiioned\")\n"
   ]
  },
  {
   "cell_type": "code",
   "execution_count": 4,
   "id": "7283b8ad-9f28-4ac9-b623-0857b3ef7cec",
   "metadata": {},
   "outputs": [],
   "source": [
    "a=10"
   ]
  },
  {
   "cell_type": "code",
   "execution_count": 5,
   "id": "5b052023-03c5-4f7b-a231-d032bced78bc",
   "metadata": {},
   "outputs": [
    {
     "ename": "ZeroDivisionError",
     "evalue": "division by zero",
     "output_type": "error",
     "traceback": [
      "\u001b[0;31m---------------------------------------------------------------------------\u001b[0m",
      "\u001b[0;31mZeroDivisionError\u001b[0m                         Traceback (most recent call last)",
      "Cell \u001b[0;32mIn[5], line 1\u001b[0m\n\u001b[0;32m----> 1\u001b[0m \u001b[43ma\u001b[49m\u001b[38;5;241;43m/\u001b[39;49m\u001b[38;5;241;43m0\u001b[39;49m\n",
      "\u001b[0;31mZeroDivisionError\u001b[0m: division by zero"
     ]
    }
   ],
   "source": [
    "a/0"
   ]
  },
  {
   "cell_type": "markdown",
   "id": "e69ec890-f552-44b5-9417-d54c3f3e2958",
   "metadata": {},
   "source": [
    "if the exception is not handled the program will terminate and displays an error"
   ]
  },
  {
   "cell_type": "markdown",
   "id": "086a64bb-a8c1-4ace-91e4-5f2bec9ac6a3",
   "metadata": {},
   "source": [
    "to handle this exception and prevent the program from terminating ,we can use exception handling constructs such as try except block,by catching the exception ,we can provide alternative code or erroe handling logic to gracefully handlr the exceptional condition ."
   ]
  },
  {
   "cell_type": "code",
   "execution_count": null,
   "id": "5f47bc49-f27c-42be-9e5b-2a40c6687ce6",
   "metadata": {},
   "outputs": [],
   "source": []
  },
  {
   "cell_type": "markdown",
   "id": "e331524d-a240-46d4-ab05-c62f0e5c5d7d",
   "metadata": {},
   "source": [
    "Q.3.Which Python statements are used to catch and handle exceptions ? Explain with an example ."
   ]
  },
  {
   "cell_type": "markdown",
   "id": "84ce8fcd-4348-4de9-a022-c7ec232fa910",
   "metadata": {},
   "source": [
    "Ans.Im Python ,we can use the 'try' and 'except' statements to catch and handle exception .The 'try block is used to enclose the code that may raise an exception and the 'except'block is used to specify how to handle the exeption if it occurs.Below I am going to give an example."
   ]
  },
  {
   "cell_type": "code",
   "execution_count": 6,
   "id": "107cf0b5-9f08-4191-8658-ca2db91a87fc",
   "metadata": {},
   "outputs": [
    {
     "name": "stdout",
     "output_type": "stream",
     "text": [
      "invalid literal for int() with base 10: 'sudhanshu'\n"
     ]
    }
   ],
   "source": [
    "try:\n",
    "    int(\"sudhanshu\")\n",
    "except (ValueError,TypeError) as e:\n",
    "    print(e)"
   ]
  },
  {
   "cell_type": "code",
   "execution_count": 9,
   "id": "288fcda8-e601-4a89-85d5-339757aecbaa",
   "metadata": {},
   "outputs": [],
   "source": [
    "import logging\n",
    "logging.basicConfig(file_name=\"value.error\",level=logging.ERROR)"
   ]
  },
  {
   "cell_type": "code",
   "execution_count": 10,
   "id": "710c2f43-5944-44d3-9cdb-3f2c37021f19",
   "metadata": {},
   "outputs": [
    {
     "name": "stderr",
     "output_type": "stream",
     "text": [
      "ERROR:root:I am trying to handle the error of the exicution  str as int invalid literal for int() with base 10: 'sudhanshu'\n"
     ]
    }
   ],
   "source": [
    "try :\n",
    "    int(\"sudhanshu\")\n",
    "except (ValueError,TypeError) as e:\n",
    "    logging.error(\"I am trying to handle the error of the exicution  str as int {}\".format(e))"
   ]
  },
  {
   "cell_type": "markdown",
   "id": "3770d3d4-62de-487f-9602-b4d884865e91",
   "metadata": {},
   "source": [
    "In this exaple the 'try' block contains that code that attempts to handle the invalid literal ,entered by  I.If an exception occur duringthe exicution of the code ,It will be caught and handled by the appropriate 'except 'block."
   ]
  },
  {
   "cell_type": "markdown",
   "id": "53499b29-d893-412e-a1d3-b7317d50194f",
   "metadata": {},
   "source": [
    "Using 'try' and 'except' blocks , we can gracefully handle exceptions and provide meaningful error message."
   ]
  },
  {
   "cell_type": "code",
   "execution_count": null,
   "id": "b74de664-4052-43d4-ac6c-5659f1755e3b",
   "metadata": {},
   "outputs": [],
   "source": []
  },
  {
   "cell_type": "markdown",
   "id": "c4d16193-917e-47c7-8da2-0fc9ae04257b",
   "metadata": {},
   "source": [
    "Q.4.Explain with an example. "
   ]
  },
  {
   "cell_type": "markdown",
   "id": "1a1a18d4-4859-4e46-81fe-4ede8275c1e3",
   "metadata": {},
   "source": [
    "a.try and else."
   ]
  },
  {
   "cell_type": "markdown",
   "id": "b21e9676-e406-4d51-902f-40c3a983904b",
   "metadata": {},
   "source": [
    "b.finally"
   ]
  },
  {
   "cell_type": "markdown",
   "id": "d6409849-c97c-4613-b787-524e33246a60",
   "metadata": {},
   "source": [
    "c.raise"
   ]
  },
  {
   "cell_type": "markdown",
   "id": "257e26a8-e02f-4e40-9f3c-ed255cf570de",
   "metadata": {},
   "source": [
    "Ans.a.try and else .The 'else 'block is an optional block that can be used with the 'try-except'statements .It is exicuted only if no exception occurs in thr try block.The 'else 'block is useful when we want to exicute some code omly if the 'try 'block is successfully executed. "
   ]
  },
  {
   "cell_type": "code",
   "execution_count": 13,
   "id": "4c8e4eca-6db9-4316-9026-691b8acd410e",
   "metadata": {},
   "outputs": [
    {
     "name": "stdout",
     "output_type": "stream",
     "text": [
      "the file dosen't caontain anything [Errno 2] No such file or directory: 'test.txt'\n"
     ]
    }
   ],
   "source": [
    "try:\n",
    "    f=open(\"test.txt\",\"r\")\n",
    "    f.write(\"I want to write some massage\")\n",
    "except Exception as e:\n",
    "           print(\"the file dosen't caontain anything\",e)\n",
    "else:\n",
    "           f.close()\n",
    "           print(\"It will be exicuted when our try block is successfully exicuted\")"
   ]
  },
  {
   "cell_type": "markdown",
   "id": "266d1572-e823-4b6b-942f-7e48f5f7cfaf",
   "metadata": {},
   "source": [
    "b.finally: the finally block is another block that can be used with the try statement.It is exicuted regardless of wether an exception occurs or not .It is typically used to define cleanup action that must be performed ,such as closing files or releasing resourses ,irrespective of exceptions.eg."
   ]
  },
  {
   "cell_type": "code",
   "execution_count": 15,
   "id": "19603606-653c-4c2e-9655-125c7d4d6717",
   "metadata": {},
   "outputs": [
    {
     "name": "stdout",
     "output_type": "stream",
     "text": [
      "dsa is also essencial to be qualified in the interview\n"
     ]
    }
   ],
   "source": [
    "try:\n",
    "    f=open(\"source.txt\",'w')\n",
    "    f.write(\"dsa is essenccial to be a data scientist\")\n",
    "finally:\n",
    "    print(\"dsa is also essencial to be qualified in the interview\")"
   ]
  },
  {
   "cell_type": "markdown",
   "id": "bf594fd5-fa4b-442f-bb21-e62e480fe600",
   "metadata": {},
   "source": [
    "finally block is always exicuted .It will exicute itself in any situation ."
   ]
  },
  {
   "cell_type": "markdown",
   "id": "e8488842-03b6-4692-8c8c-1ce3b707aedb",
   "metadata": {},
   "source": [
    "c.raise: This very statement  is used to manually raise an exception in Python .It allows us to explicitely trigger an exception in our code based on certain conditions or criteria.Below is the given example.."
   ]
  },
  {
   "cell_type": "code",
   "execution_count": 16,
   "id": "82639fa6-88db-4754-91d6-6750eeca5c81",
   "metadata": {},
   "outputs": [],
   "source": [
    "def validate_age(age):\n",
    "    if age < 0:\n",
    "        raise ValueError(\"age can not be negative.\")\n",
    "    elif age < 18:\n",
    "        raise ValueError(\"age must be above 18\")\n",
    "    else:\n",
    "        print(\"age is valid\")"
   ]
  },
  {
   "cell_type": "code",
   "execution_count": 18,
   "id": "72751f27-e00d-4738-8c1f-120d585375b7",
   "metadata": {},
   "outputs": [
    {
     "name": "stdin",
     "output_type": "stream",
     "text": [
      "enter your age 29\n"
     ]
    },
    {
     "name": "stdout",
     "output_type": "stream",
     "text": [
      "age is valid\n"
     ]
    }
   ],
   "source": [
    "try:\n",
    "    candidate_age=int(input(\"enter your age\"))\n",
    "    validate_age(candidate_age)\n",
    "except ValueError as e:\n",
    "    print(e)"
   ]
  },
  {
   "cell_type": "code",
   "execution_count": null,
   "id": "32bc038f-c8af-4704-8daf-f63f9eae2208",
   "metadata": {},
   "outputs": [],
   "source": []
  },
  {
   "cell_type": "markdown",
   "id": "afd8b96f-47ab-4f2a-98e4-781367092c00",
   "metadata": {},
   "source": [
    "Q.5.What are custom exception in Python ? Why do we need custom exception ?Explain with an example ."
   ]
  },
  {
   "cell_type": "markdown",
   "id": "3b1f2c62-51e9-49cc-a298-f1ac05e7f5cb",
   "metadata": {},
   "source": [
    "Ans. Custom exception in Python are user-defined exception that allow us to create our own exceptional conditions specific to our application or domain .By creatin custom exceptions, we can provide more meaningful and descriptive error messages tailored to our program's requirements.Below is the example for custom exception ."
   ]
  },
  {
   "cell_type": "code",
   "execution_count": 20,
   "id": "84b157af-7448-4973-92c8-cd678f7db6a7",
   "metadata": {},
   "outputs": [],
   "source": [
    "class insufficientfundserror(Exception):\n",
    "    def __init__(self,account_balance,amount):\n",
    "        super().__init__(\"insufficient funds in the account.\")\n",
    "        self.account_balance=account_balance\n",
    "        self.amount=amount\n",
    "        \n",
    "    def __str__(self):\n",
    "        return f\"Account balance:{self.account_balance},Required amount:{self.amount}\"\n",
    "        "
   ]
  },
  {
   "cell_type": "code",
   "execution_count": 21,
   "id": "2ebedaa3-c42f-415b-995f-ea220f8e8efe",
   "metadata": {},
   "outputs": [],
   "source": [
    "def withdraw(account_balance,amount):\n",
    "    if amount > account_balance:\n",
    "        raise insufficientfundserror(account_balance,amount)\n",
    "    else:\n",
    "        print(\"withdrawal successful\")"
   ]
  },
  {
   "cell_type": "code",
   "execution_count": 25,
   "id": "14ad4bc9-2507-4345-8044-b857d2bf4539",
   "metadata": {},
   "outputs": [
    {
     "name": "stdout",
     "output_type": "stream",
     "text": [
      "Account balance:1500,Required amount:2000\n"
     ]
    }
   ],
   "source": [
    "try:\n",
    "    account_balance= 1500\n",
    "    withdrawal_amount=2000\n",
    "    withdraw(account_balance,withdrawal_amount)\n",
    "    \n",
    "except insufficientfundserror as e:\n",
    "    print(e)"
   ]
  },
  {
   "cell_type": "markdown",
   "id": "b9b62058-5b61-49df-9130-d18fe0161dfa",
   "metadata": {},
   "source": [
    "In this example ,a custom exception called 'insufficientfundserror' is created by inheriting from the base 'Exception'calss.The custom exception takes the current account balance and the required withdrawal amount as parametres ."
   ]
  },
  {
   "cell_type": "markdown",
   "id": "f82d6386-6462-4519-87bc-7d88a8b4c8be",
   "metadata": {},
   "source": [
    "Custom exceptions help us to improve the readabillty and maintainabillty of our code by providing clear and meaningful error message that communicate the sprcific nature of the exceptional condition."
   ]
  },
  {
   "cell_type": "code",
   "execution_count": null,
   "id": "a21b2cb0-76dc-4aff-8063-838576891668",
   "metadata": {},
   "outputs": [],
   "source": []
  },
  {
   "cell_type": "markdown",
   "id": "dd5125c9-53c8-424b-b66e-2c22a7707ad8",
   "metadata": {},
   "source": [
    "Q.6.Create a custom exceptiion class .use this class to handle an exception."
   ]
  },
  {
   "cell_type": "code",
   "execution_count": 26,
   "id": "af559c6c-c241-4b1d-9dd1-2fa5bf6d6aa3",
   "metadata": {},
   "outputs": [],
   "source": [
    "class job_fair(Exception):\n",
    "    def __init__(self,message):\n",
    "        self.message=message"
   ]
  },
  {
   "cell_type": "code",
   "execution_count": 32,
   "id": "65464092-75fd-420e-b8e4-2f5d6e3700d7",
   "metadata": {},
   "outputs": [],
   "source": [
    "def eligibility_criteria(assignments):\n",
    "    if assignments < 40:\n",
    "        raise job_fair(\"you must have to be submitted more than 40 assignments\")\n",
    "    else:\n",
    "        print(\"You are eligible for job fair\")"
   ]
  },
  {
   "cell_type": "code",
   "execution_count": 34,
   "id": "fdf7ca39-5f21-4452-adbc-0b2fae5a550c",
   "metadata": {},
   "outputs": [
    {
     "name": "stdin",
     "output_type": "stream",
     "text": [
      "enter the no of assignment 35\n"
     ]
    },
    {
     "name": "stdout",
     "output_type": "stream",
     "text": [
      "you must have to be submitted more than 40 assignments\n"
     ]
    }
   ],
   "source": [
    "try:\n",
    "    assignments=int(input(\"enter the no of assignments\"))\n",
    "    eligibility_criteria(assignment)\n",
    "except job_fair as e :\n",
    "    print(e)"
   ]
  },
  {
   "cell_type": "markdown",
   "id": "2daca676-c3e2-497a-9919-7fb93f2055cf",
   "metadata": {},
   "source": [
    "Custom exceptions help us to improve the readabillty and maintainabillty of our code by providing clear and meaningful error message that communicate the sprcific nature of the exceptional condition."
   ]
  },
  {
   "cell_type": "code",
   "execution_count": null,
   "id": "0f46d8ae-b7f5-49e9-ad29-c944b1d1092d",
   "metadata": {},
   "outputs": [],
   "source": []
  }
 ],
 "metadata": {
  "kernelspec": {
   "display_name": "Python 3 (ipykernel)",
   "language": "python",
   "name": "python3"
  },
  "language_info": {
   "codemirror_mode": {
    "name": "ipython",
    "version": 3
   },
   "file_extension": ".py",
   "mimetype": "text/x-python",
   "name": "python",
   "nbconvert_exporter": "python",
   "pygments_lexer": "ipython3",
   "version": "3.10.8"
  }
 },
 "nbformat": 4,
 "nbformat_minor": 5
}
